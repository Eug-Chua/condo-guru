{
 "cells": [
  {
   "cell_type": "code",
   "execution_count": 1,
   "id": "72718aff",
   "metadata": {},
   "outputs": [],
   "source": [
    "# import libraries\n",
    "import pandas as pd\n",
    "import numpy as np\n",
    "import matplotlib.pyplot as plt\n",
    "import seaborn as sns"
   ]
  },
  {
   "cell_type": "code",
   "execution_count": 2,
   "id": "d5ec11cd",
   "metadata": {},
   "outputs": [],
   "source": [
    "# helper function to check for unique values in df\n",
    "def unique_values_checker(df):    \n",
    "    for i in df.columns:\n",
    "        print(i)\n",
    "        print(np.unique(df[i]))\n",
    "        print()\n",
    "        \n",
    "# helper function to check for null values\n",
    "def null_checker(df):    \n",
    "    for i in df.columns:\n",
    "        print(f\"{i}: {df[i].isnull().sum()}\")\n",
    "    print()\n",
    "    print(f\"Total null values in dataframe: {df[i].isnull().sum().sum()}\")"
   ]
  },
  {
   "cell_type": "code",
   "execution_count": 3,
   "id": "12a1c518",
   "metadata": {},
   "outputs": [
    {
     "data": {
      "text/html": [
       "<div>\n",
       "<style scoped>\n",
       "    .dataframe tbody tr th:only-of-type {\n",
       "        vertical-align: middle;\n",
       "    }\n",
       "\n",
       "    .dataframe tbody tr th {\n",
       "        vertical-align: top;\n",
       "    }\n",
       "\n",
       "    .dataframe thead th {\n",
       "        text-align: right;\n",
       "    }\n",
       "</style>\n",
       "<table border=\"1\" class=\"dataframe\">\n",
       "  <thead>\n",
       "    <tr style=\"text-align: right;\">\n",
       "      <th></th>\n",
       "      <th>Project Name</th>\n",
       "      <th>Transacted Price ($)</th>\n",
       "      <th>Area (SQFT)</th>\n",
       "      <th>Unit Price ($ PSF)</th>\n",
       "      <th>Sale Date</th>\n",
       "      <th>Street Name</th>\n",
       "      <th>Type of Sale</th>\n",
       "      <th>Type of Area</th>\n",
       "      <th>Area (SQM)</th>\n",
       "      <th>Unit Price ($ PSM)</th>\n",
       "      <th>Nett Price($)</th>\n",
       "      <th>Property Type</th>\n",
       "      <th>Number of Units</th>\n",
       "      <th>Tenure</th>\n",
       "      <th>Postal District</th>\n",
       "      <th>Market Segment</th>\n",
       "      <th>Floor Level</th>\n",
       "    </tr>\n",
       "  </thead>\n",
       "  <tbody>\n",
       "    <tr>\n",
       "      <th>0</th>\n",
       "      <td>STIRLING RESIDENCES</td>\n",
       "      <td>1,001,000</td>\n",
       "      <td>441.32</td>\n",
       "      <td>2,268</td>\n",
       "      <td>May-21</td>\n",
       "      <td>STIRLING ROAD</td>\n",
       "      <td>New Sale</td>\n",
       "      <td>Strata</td>\n",
       "      <td>41</td>\n",
       "      <td>24,415</td>\n",
       "      <td>-</td>\n",
       "      <td>Apartment</td>\n",
       "      <td>1</td>\n",
       "      <td>99 yrs lease commencing from 2017</td>\n",
       "      <td>3</td>\n",
       "      <td>Rest of Central Region</td>\n",
       "      <td>26 to 30</td>\n",
       "    </tr>\n",
       "    <tr>\n",
       "      <th>1</th>\n",
       "      <td>STIRLING RESIDENCES</td>\n",
       "      <td>1,124,000</td>\n",
       "      <td>505.91</td>\n",
       "      <td>2,222</td>\n",
       "      <td>May-21</td>\n",
       "      <td>STIRLING ROAD</td>\n",
       "      <td>New Sale</td>\n",
       "      <td>Strata</td>\n",
       "      <td>47</td>\n",
       "      <td>23,915</td>\n",
       "      <td>-</td>\n",
       "      <td>Apartment</td>\n",
       "      <td>1</td>\n",
       "      <td>99 yrs lease commencing from 2017</td>\n",
       "      <td>3</td>\n",
       "      <td>Rest of Central Region</td>\n",
       "      <td>36 to 40</td>\n",
       "    </tr>\n",
       "    <tr>\n",
       "      <th>2</th>\n",
       "      <td>NORMANTON PARK</td>\n",
       "      <td>1,218,000</td>\n",
       "      <td>667.37</td>\n",
       "      <td>1,825</td>\n",
       "      <td>May-21</td>\n",
       "      <td>NORMANTON PARK</td>\n",
       "      <td>New Sale</td>\n",
       "      <td>Strata</td>\n",
       "      <td>62</td>\n",
       "      <td>19,645</td>\n",
       "      <td>-</td>\n",
       "      <td>Apartment</td>\n",
       "      <td>1</td>\n",
       "      <td>99 yrs lease commencing from 2019</td>\n",
       "      <td>5</td>\n",
       "      <td>Rest of Central Region</td>\n",
       "      <td>06 to 10</td>\n",
       "    </tr>\n",
       "    <tr>\n",
       "      <th>3</th>\n",
       "      <td>NORMANTON PARK</td>\n",
       "      <td>1,218,609</td>\n",
       "      <td>667.37</td>\n",
       "      <td>1,826</td>\n",
       "      <td>May-21</td>\n",
       "      <td>NORMANTON PARK</td>\n",
       "      <td>New Sale</td>\n",
       "      <td>Strata</td>\n",
       "      <td>62</td>\n",
       "      <td>19,655</td>\n",
       "      <td>-</td>\n",
       "      <td>Apartment</td>\n",
       "      <td>1</td>\n",
       "      <td>99 yrs lease commencing from 2019</td>\n",
       "      <td>5</td>\n",
       "      <td>Rest of Central Region</td>\n",
       "      <td>06 to 10</td>\n",
       "    </tr>\n",
       "    <tr>\n",
       "      <th>4</th>\n",
       "      <td>NORMANTON PARK</td>\n",
       "      <td>1,954,000</td>\n",
       "      <td>1,097.93</td>\n",
       "      <td>1,780</td>\n",
       "      <td>May-21</td>\n",
       "      <td>NORMANTON PARK</td>\n",
       "      <td>New Sale</td>\n",
       "      <td>Strata</td>\n",
       "      <td>102</td>\n",
       "      <td>19,157</td>\n",
       "      <td>-</td>\n",
       "      <td>Apartment</td>\n",
       "      <td>1</td>\n",
       "      <td>99 yrs lease commencing from 2019</td>\n",
       "      <td>5</td>\n",
       "      <td>Rest of Central Region</td>\n",
       "      <td>06 to 10</td>\n",
       "    </tr>\n",
       "    <tr>\n",
       "      <th>...</th>\n",
       "      <td>...</td>\n",
       "      <td>...</td>\n",
       "      <td>...</td>\n",
       "      <td>...</td>\n",
       "      <td>...</td>\n",
       "      <td>...</td>\n",
       "      <td>...</td>\n",
       "      <td>...</td>\n",
       "      <td>...</td>\n",
       "      <td>...</td>\n",
       "      <td>...</td>\n",
       "      <td>...</td>\n",
       "      <td>...</td>\n",
       "      <td>...</td>\n",
       "      <td>...</td>\n",
       "      <td>...</td>\n",
       "      <td>...</td>\n",
       "    </tr>\n",
       "    <tr>\n",
       "      <th>3358</th>\n",
       "      <td>THE WARREN</td>\n",
       "      <td>1,025,000</td>\n",
       "      <td>1,237.86</td>\n",
       "      <td>828</td>\n",
       "      <td>Feb-19</td>\n",
       "      <td>CHOA CHU KANG LOOP</td>\n",
       "      <td>Resale</td>\n",
       "      <td>Strata</td>\n",
       "      <td>115</td>\n",
       "      <td>8,913</td>\n",
       "      <td>-</td>\n",
       "      <td>Condominium</td>\n",
       "      <td>1</td>\n",
       "      <td>99 yrs lease commencing from 2001</td>\n",
       "      <td>23</td>\n",
       "      <td>Outside Central Region</td>\n",
       "      <td>01 to 05</td>\n",
       "    </tr>\n",
       "    <tr>\n",
       "      <th>3359</th>\n",
       "      <td>PALM GARDENS</td>\n",
       "      <td>780,000</td>\n",
       "      <td>958</td>\n",
       "      <td>814</td>\n",
       "      <td>Feb-19</td>\n",
       "      <td>HONG SAN WALK</td>\n",
       "      <td>Resale</td>\n",
       "      <td>Strata</td>\n",
       "      <td>89</td>\n",
       "      <td>8,764</td>\n",
       "      <td>-</td>\n",
       "      <td>Condominium</td>\n",
       "      <td>1</td>\n",
       "      <td>99 yrs lease commencing from 1996</td>\n",
       "      <td>23</td>\n",
       "      <td>Outside Central Region</td>\n",
       "      <td>11 to 15</td>\n",
       "    </tr>\n",
       "    <tr>\n",
       "      <th>3360</th>\n",
       "      <td>THE MAYFAIR</td>\n",
       "      <td>1,030,000</td>\n",
       "      <td>1,173.28</td>\n",
       "      <td>878</td>\n",
       "      <td>Feb-19</td>\n",
       "      <td>JURONG EAST STREET 32</td>\n",
       "      <td>Resale</td>\n",
       "      <td>Strata</td>\n",
       "      <td>109</td>\n",
       "      <td>9,450</td>\n",
       "      <td>-</td>\n",
       "      <td>Condominium</td>\n",
       "      <td>1</td>\n",
       "      <td>99 yrs lease commencing from 1996</td>\n",
       "      <td>22</td>\n",
       "      <td>Outside Central Region</td>\n",
       "      <td>11 to 15</td>\n",
       "    </tr>\n",
       "    <tr>\n",
       "      <th>3361</th>\n",
       "      <td>REGENT HEIGHTS</td>\n",
       "      <td>825,000</td>\n",
       "      <td>1,022.58</td>\n",
       "      <td>807</td>\n",
       "      <td>Feb-19</td>\n",
       "      <td>BUKIT BATOK EAST AVENUE 5</td>\n",
       "      <td>Resale</td>\n",
       "      <td>Strata</td>\n",
       "      <td>95</td>\n",
       "      <td>8,684</td>\n",
       "      <td>-</td>\n",
       "      <td>Condominium</td>\n",
       "      <td>1</td>\n",
       "      <td>99 yrs lease commencing from 1995</td>\n",
       "      <td>23</td>\n",
       "      <td>Outside Central Region</td>\n",
       "      <td>11 to 15</td>\n",
       "    </tr>\n",
       "    <tr>\n",
       "      <th>3362</th>\n",
       "      <td>THE CENTRIS</td>\n",
       "      <td>1,230,888</td>\n",
       "      <td>1,065.64</td>\n",
       "      <td>1,155</td>\n",
       "      <td>Feb-19</td>\n",
       "      <td>JURONG WEST CENTRAL 3</td>\n",
       "      <td>Resale</td>\n",
       "      <td>Strata</td>\n",
       "      <td>99</td>\n",
       "      <td>12,433</td>\n",
       "      <td>-</td>\n",
       "      <td>Apartment</td>\n",
       "      <td>1</td>\n",
       "      <td>99 yrs lease commencing from 2006</td>\n",
       "      <td>22</td>\n",
       "      <td>Outside Central Region</td>\n",
       "      <td>06 to 10</td>\n",
       "    </tr>\n",
       "  </tbody>\n",
       "</table>\n",
       "<p>101715 rows × 17 columns</p>\n",
       "</div>"
      ],
      "text/plain": [
       "             Project Name Transacted Price ($) Area (SQFT) Unit Price ($ PSF)  \\\n",
       "0     STIRLING RESIDENCES            1,001,000      441.32              2,268   \n",
       "1     STIRLING RESIDENCES            1,124,000      505.91              2,222   \n",
       "2          NORMANTON PARK            1,218,000      667.37              1,825   \n",
       "3          NORMANTON PARK            1,218,609      667.37              1,826   \n",
       "4          NORMANTON PARK            1,954,000    1,097.93              1,780   \n",
       "...                   ...                  ...         ...                ...   \n",
       "3358           THE WARREN            1,025,000    1,237.86                828   \n",
       "3359         PALM GARDENS              780,000         958                814   \n",
       "3360          THE MAYFAIR            1,030,000    1,173.28                878   \n",
       "3361       REGENT HEIGHTS              825,000    1,022.58                807   \n",
       "3362          THE CENTRIS            1,230,888    1,065.64              1,155   \n",
       "\n",
       "     Sale Date                Street Name Type of Sale Type of Area  \\\n",
       "0       May-21              STIRLING ROAD     New Sale       Strata   \n",
       "1       May-21              STIRLING ROAD     New Sale       Strata   \n",
       "2       May-21             NORMANTON PARK     New Sale       Strata   \n",
       "3       May-21             NORMANTON PARK     New Sale       Strata   \n",
       "4       May-21             NORMANTON PARK     New Sale       Strata   \n",
       "...        ...                        ...          ...          ...   \n",
       "3358    Feb-19         CHOA CHU KANG LOOP       Resale       Strata   \n",
       "3359    Feb-19              HONG SAN WALK       Resale       Strata   \n",
       "3360    Feb-19      JURONG EAST STREET 32       Resale       Strata   \n",
       "3361    Feb-19  BUKIT BATOK EAST AVENUE 5       Resale       Strata   \n",
       "3362    Feb-19      JURONG WEST CENTRAL 3       Resale       Strata   \n",
       "\n",
       "     Area (SQM) Unit Price ($ PSM) Nett Price($) Property Type  \\\n",
       "0            41             24,415             -     Apartment   \n",
       "1            47             23,915             -     Apartment   \n",
       "2            62             19,645             -     Apartment   \n",
       "3            62             19,655             -     Apartment   \n",
       "4           102             19,157             -     Apartment   \n",
       "...         ...                ...           ...           ...   \n",
       "3358        115              8,913             -   Condominium   \n",
       "3359         89              8,764             -   Condominium   \n",
       "3360        109              9,450             -   Condominium   \n",
       "3361         95              8,684             -   Condominium   \n",
       "3362         99             12,433             -     Apartment   \n",
       "\n",
       "      Number of Units                             Tenure  Postal District  \\\n",
       "0                   1  99 yrs lease commencing from 2017                3   \n",
       "1                   1  99 yrs lease commencing from 2017                3   \n",
       "2                   1  99 yrs lease commencing from 2019                5   \n",
       "3                   1  99 yrs lease commencing from 2019                5   \n",
       "4                   1  99 yrs lease commencing from 2019                5   \n",
       "...               ...                                ...              ...   \n",
       "3358                1  99 yrs lease commencing from 2001               23   \n",
       "3359                1  99 yrs lease commencing from 1996               23   \n",
       "3360                1  99 yrs lease commencing from 1996               22   \n",
       "3361                1  99 yrs lease commencing from 1995               23   \n",
       "3362                1  99 yrs lease commencing from 2006               22   \n",
       "\n",
       "              Market Segment Floor Level  \n",
       "0     Rest of Central Region    26 to 30  \n",
       "1     Rest of Central Region    36 to 40  \n",
       "2     Rest of Central Region    06 to 10  \n",
       "3     Rest of Central Region    06 to 10  \n",
       "4     Rest of Central Region    06 to 10  \n",
       "...                      ...         ...  \n",
       "3358  Outside Central Region    01 to 05  \n",
       "3359  Outside Central Region    11 to 15  \n",
       "3360  Outside Central Region    11 to 15  \n",
       "3361  Outside Central Region    11 to 15  \n",
       "3362  Outside Central Region    06 to 10  \n",
       "\n",
       "[101715 rows x 17 columns]"
      ]
     },
     "execution_count": 3,
     "metadata": {},
     "output_type": "execute_result"
    }
   ],
   "source": [
    "pathway = \"***\"\n",
    "temp_df1 = pd.read_csv(pathway+\"Districts-1-to-7-pt1.csv\")\n",
    "temp_df2 = pd.read_csv(pathway+\"Districts-1-to-7-pt2.csv\")\n",
    "temp_df3 = pd.read_csv(pathway+\"Districts-1-to-7-pt3.csv\")\n",
    "\n",
    "temp_df4 = pd.read_csv(pathway+\"Districts-8-to-10-pt1.csv\")\n",
    "temp_df5 = pd.read_csv(pathway+\"Districts-8-to-10-pt2.csv\")\n",
    "\n",
    "temp_df6 = pd.read_csv(pathway+\"Districts-11-to-14-pt1.csv\", encoding='latin-1')\n",
    "temp_df7 = pd.read_csv(pathway+\"Districts-11-to-14-pt2.csv\", encoding='latin-1')\n",
    "\n",
    "temp_df8 = pd.read_csv(pathway+\"Districts-15-to-21-pt1.csv\")\n",
    "temp_df9 = pd.read_csv(pathway+\"Districts-15-to-21-pt2.csv\")\n",
    "temp_df10 = pd.read_csv(pathway+\"Districts-15-to-21-pt3.csv\")\n",
    "temp_df11 = pd.read_csv(pathway+\"Districts-15-to-21-pt4.csv\")\n",
    "temp_df12 = pd.read_csv(pathway+\"Districts-15-to-21-pt5.csv\")\n",
    "\n",
    "temp_df13 = pd.read_csv(pathway+\"Districts-22-to-28-pt1.csv\")\n",
    "temp_df14 = pd.read_csv(pathway+\"Districts-22-to-28-pt2.csv\")\n",
    "\n",
    "districts_master = pd.concat([temp_df1, temp_df2, temp_df3,\n",
    "                             temp_df4, temp_df5, temp_df6,\n",
    "                             temp_df7, temp_df8, temp_df9,\n",
    "                             temp_df10, temp_df11, temp_df12,\n",
    "                             temp_df13, temp_df14], axis=0)\n",
    "districts_master"
   ]
  },
  {
   "cell_type": "code",
   "execution_count": 4,
   "id": "4724350d",
   "metadata": {},
   "outputs": [
    {
     "name": "stdout",
     "output_type": "stream",
     "text": [
      "Project Name: 0\n",
      "Transacted Price ($): 0\n",
      "Area (SQFT): 0\n",
      "Unit Price ($ PSF): 0\n",
      "Sale Date: 0\n",
      "Street Name: 0\n",
      "Type of Sale: 0\n",
      "Type of Area: 0\n",
      "Area (SQM): 0\n",
      "Unit Price ($ PSM): 0\n",
      "Nett Price($): 0\n",
      "Property Type: 0\n",
      "Number of Units: 0\n",
      "Tenure: 0\n",
      "Postal District: 0\n",
      "Market Segment: 0\n",
      "Floor Level: 0\n",
      "\n",
      "Total null values in dataframe: 0\n"
     ]
    }
   ],
   "source": [
    "# check for null values\n",
    "null_checker(districts_master)"
   ]
  },
  {
   "cell_type": "code",
   "execution_count": 5,
   "id": "46b7f43b",
   "metadata": {},
   "outputs": [
    {
     "name": "stdout",
     "output_type": "stream",
     "text": [
      "<class 'pandas.core.frame.DataFrame'>\n",
      "Index: 101715 entries, 0 to 3362\n",
      "Data columns (total 17 columns):\n",
      " #   Column                Non-Null Count   Dtype \n",
      "---  ------                --------------   ----- \n",
      " 0   Project Name          101715 non-null  object\n",
      " 1   Transacted Price ($)  101715 non-null  object\n",
      " 2   Area (SQFT)           101715 non-null  object\n",
      " 3   Unit Price ($ PSF)    101715 non-null  object\n",
      " 4   Sale Date             101715 non-null  object\n",
      " 5   Street Name           101715 non-null  object\n",
      " 6   Type of Sale          101715 non-null  object\n",
      " 7   Type of Area          101715 non-null  object\n",
      " 8   Area (SQM)            101715 non-null  object\n",
      " 9   Unit Price ($ PSM)    101715 non-null  object\n",
      " 10  Nett Price($)         101715 non-null  object\n",
      " 11  Property Type         101715 non-null  object\n",
      " 12  Number of Units       101715 non-null  int64 \n",
      " 13  Tenure                101715 non-null  object\n",
      " 14  Postal District       101715 non-null  int64 \n",
      " 15  Market Segment        101715 non-null  object\n",
      " 16  Floor Level           101715 non-null  object\n",
      "dtypes: int64(2), object(15)\n",
      "memory usage: 14.0+ MB\n",
      "None\n"
     ]
    }
   ],
   "source": [
    "# preview data types\n",
    "print(districts_master.info())"
   ]
  },
  {
   "cell_type": "code",
   "execution_count": 6,
   "id": "8ef57a35",
   "metadata": {},
   "outputs": [
    {
     "name": "stdout",
     "output_type": "stream",
     "text": [
      "Dataset date ranges from 2019-02-01 00:00:00 to 2024-02-01 00:00:00\n"
     ]
    }
   ],
   "source": [
    "# convert 'Sale Date' to datetime to extract year\n",
    "districts_master['Sale Date'] = pd.to_datetime(districts_master['Sale Date'],\n",
    "                                               errors='coerce',\n",
    "                                               format='%b-%y')\n",
    "\n",
    "# add a year column for later analysis\n",
    "districts_master['Year'] = districts_master['Sale Date'].dt.year\n",
    "\n",
    "print(f\"Dataset date ranges from {districts_master['Sale Date'].min()} to {districts_master['Sale Date'].max()}\")"
   ]
  },
  {
   "cell_type": "code",
   "execution_count": 7,
   "id": "48f9519c",
   "metadata": {},
   "outputs": [
    {
     "data": {
      "text/plain": [
       "Year\n",
       "2019    25770594642\n",
       "2020    28691420419\n",
       "2021    52756782066\n",
       "2022    39634406024\n",
       "2023    35060769302\n",
       "2024     2036268272\n",
       "Name: Transacted Price ($), dtype: int64"
      ]
     },
     "execution_count": 7,
     "metadata": {},
     "output_type": "execute_result"
    }
   ],
   "source": [
    "# convert 'Transacted Price ($)' column to numeric\n",
    "districts_master['Transacted Price ($)'] = pd.to_numeric(\n",
    "    districts_master['Transacted Price ($)'].str.replace(',', ''), errors='coerce')\n",
    "\n",
    "# group transactions by year\n",
    "yearly_txns = districts_master.groupby('Year')['Transacted Price ($)'].sum()\n",
    "yearly_txns"
   ]
  },
  {
   "cell_type": "code",
   "execution_count": 8,
   "id": "7f359066",
   "metadata": {},
   "outputs": [
    {
     "data": {
      "text/plain": [
       "dtype('int64')"
      ]
     },
     "execution_count": 8,
     "metadata": {},
     "output_type": "execute_result"
    }
   ],
   "source": [
    "# convert 'Unit Price ($ PSF)' column to numeric\n",
    "districts_master['Unit Price ($ PSF)'] = pd.to_numeric(\n",
    "    districts_master['Unit Price ($ PSF)'].str.replace(',', ''), errors='coerce')\n",
    "\n",
    "districts_master['Unit Price ($ PSF)'].dtype"
   ]
  },
  {
   "cell_type": "code",
   "execution_count": 9,
   "id": "2f1623b5",
   "metadata": {},
   "outputs": [
    {
     "data": {
      "text/plain": [
       "dtype('float64')"
      ]
     },
     "execution_count": 9,
     "metadata": {},
     "output_type": "execute_result"
    }
   ],
   "source": [
    "# convert 'Area (SQFT)' column to numeric\n",
    "districts_master['Area (SQFT)'] = pd.to_numeric(\n",
    "    districts_master['Area (SQFT)'].str.replace(',', ''), errors='coerce')\n",
    "\n",
    "districts_master['Area (SQFT)'].dtype"
   ]
  },
  {
   "cell_type": "code",
   "execution_count": 10,
   "id": "818fdcf6",
   "metadata": {},
   "outputs": [],
   "source": [
    "# add column for each unit's price\n",
    "districts_master['Transacated Price per Unit'] = districts_master['Transacted Price ($)'] / districts_master['Number of Units']"
   ]
  },
  {
   "cell_type": "code",
   "execution_count": 11,
   "id": "63d37c5a",
   "metadata": {},
   "outputs": [
    {
     "data": {
      "text/plain": [
       "Project Name                          object\n",
       "Transacted Price ($)                   int64\n",
       "Area (SQFT)                          float64\n",
       "Unit Price ($ PSF)                     int64\n",
       "Sale Date                     datetime64[ns]\n",
       "Street Name                           object\n",
       "Type of Sale                          object\n",
       "Type of Area                          object\n",
       "Area (SQM)                            object\n",
       "Unit Price ($ PSM)                    object\n",
       "Nett Price($)                         object\n",
       "Property Type                         object\n",
       "Number of Units                        int64\n",
       "Tenure                                object\n",
       "Postal District                        int64\n",
       "Market Segment                        object\n",
       "Floor Level                           object\n",
       "Year                                   int32\n",
       "Transacated Price per Unit           float64\n",
       "dtype: object"
      ]
     },
     "execution_count": 11,
     "metadata": {},
     "output_type": "execute_result"
    }
   ],
   "source": [
    "districts_master.dtypes"
   ]
  },
  {
   "cell_type": "code",
   "execution_count": null,
   "id": "0522ebe7",
   "metadata": {},
   "outputs": [],
   "source": [
    "districts_master.to_csv(\"districts_master_2019_2024.csv\")"
   ]
  },
  {
   "cell_type": "markdown",
   "id": "f48d6115",
   "metadata": {},
   "source": [
    "## Split Dataset by Year"
   ]
  },
  {
   "cell_type": "code",
   "execution_count": null,
   "id": "2a282ca5",
   "metadata": {},
   "outputs": [],
   "source": [
    "districts_master = pd.read_csv(\"districts_master_2019_2024.csv\")\n",
    "districts_master"
   ]
  },
  {
   "cell_type": "code",
   "execution_count": null,
   "id": "b256b582",
   "metadata": {},
   "outputs": [],
   "source": [
    "districts_master = districts_master.iloc[:,1:]\n",
    "districts_master"
   ]
  },
  {
   "cell_type": "code",
   "execution_count": null,
   "id": "01b47229",
   "metadata": {},
   "outputs": [],
   "source": [
    "# filter condos for each year\n",
    "district_master_2019 = districts_master[districts_master['Year'] == 2019]\n",
    "district_master_2020 = districts_master[districts_master['Year'] == 2020]\n",
    "district_master_2021 = districts_master[districts_master['Year'] == 2021]\n",
    "district_master_2022 = districts_master[districts_master['Year'] == 2022]\n",
    "district_master_2023 = districts_master[districts_master['Year'] == 2023]\n",
    "district_master_2024 = districts_master[districts_master['Year'] == 2024]"
   ]
  },
  {
   "cell_type": "code",
   "execution_count": null,
   "id": "5a8a109d",
   "metadata": {},
   "outputs": [],
   "source": [
    "# get condo median $PSF for each year\n",
    "condo_median_2019 = district_master_2019.groupby('Project Name')['Unit Price ($ PSF)'].median()\n",
    "condo_median_2020 = district_master_2020.groupby('Project Name')['Unit Price ($ PSF)'].median()\n",
    "condo_median_2021 = district_master_2021.groupby('Project Name')['Unit Price ($ PSF)'].median()\n",
    "condo_median_2022 = district_master_2022.groupby('Project Name')['Unit Price ($ PSF)'].median()\n",
    "condo_median_2023 = district_master_2023.groupby('Project Name')['Unit Price ($ PSF)'].median()\n",
    "condo_median_2024 = district_master_2024.groupby('Project Name')['Unit Price ($ PSF)'].median()"
   ]
  },
  {
   "cell_type": "code",
   "execution_count": null,
   "id": "5f289d89",
   "metadata": {},
   "outputs": [],
   "source": [
    "condo_median_prices = pd.concat([\n",
    "    condo_median_2019,\n",
    "    condo_median_2020,\n",
    "    condo_median_2021,\n",
    "    condo_median_2022,\n",
    "    condo_median_2023,\n",
    "    condo_median_2024],\n",
    "    axis=1)"
   ]
  },
  {
   "cell_type": "code",
   "execution_count": null,
   "id": "76acc96b",
   "metadata": {},
   "outputs": [],
   "source": [
    "# rename columns\n",
    "condo_median_prices.columns = [\n",
    "    'Median $PSF 2019',\n",
    "    'Median $PSF 2020',\n",
    "    'Median $PSF 2021',\n",
    "    'Median $PSF 2022',\n",
    "    'Median $PSF 2023',\n",
    "    'Median $PSF 2024']"
   ]
  },
  {
   "cell_type": "code",
   "execution_count": null,
   "id": "718b57a9",
   "metadata": {},
   "outputs": [],
   "source": [
    "# change NaN figures to zero\n",
    "condo_median_prices = condo_median_prices.fillna(0)\n",
    "condo_median_prices"
   ]
  },
  {
   "cell_type": "code",
   "execution_count": null,
   "id": "afb53597",
   "metadata": {},
   "outputs": [],
   "source": [
    "# # save all the median prices as csv\n",
    "# condo_median_prices.to_csv('median_condo_psf.csv')"
   ]
  },
  {
   "cell_type": "markdown",
   "id": "df0d51ed",
   "metadata": {},
   "source": [
    "## Split Dataset By Year"
   ]
  },
  {
   "cell_type": "code",
   "execution_count": null,
   "id": "442a55c6",
   "metadata": {},
   "outputs": [],
   "source": [
    "years = np.unique(districts_master.Year)\n",
    "years"
   ]
  },
  {
   "cell_type": "code",
   "execution_count": null,
   "id": "34b6c4a9",
   "metadata": {},
   "outputs": [],
   "source": [
    "condos_2024 = districts_master[districts_master['Year'] == 2024]\n",
    "condos_2024 = condos_2024[['Project Name',\n",
    "                           'Transacated Price per Unit',\n",
    "                           'Area (SQFT)',\n",
    "                           'Unit Price ($ PSF)',\n",
    "                           'Street Name',\n",
    "                           'Floor Level',\n",
    "                           'Sale Date',\n",
    "                           'Year']]"
   ]
  },
  {
   "cell_type": "code",
   "execution_count": null,
   "id": "4a28264c",
   "metadata": {},
   "outputs": [],
   "source": [
    "# # save as csv\n",
    "# condos_2024.to_csv(\"condos_2024.csv\")"
   ]
  }
 ],
 "metadata": {
  "kernelspec": {
   "display_name": "Python 3 (ipykernel)",
   "language": "python",
   "name": "python3"
  },
  "language_info": {
   "codemirror_mode": {
    "name": "ipython",
    "version": 3
   },
   "file_extension": ".py",
   "mimetype": "text/x-python",
   "name": "python",
   "nbconvert_exporter": "python",
   "pygments_lexer": "ipython3",
   "version": "3.9.12"
  }
 },
 "nbformat": 4,
 "nbformat_minor": 5
}
